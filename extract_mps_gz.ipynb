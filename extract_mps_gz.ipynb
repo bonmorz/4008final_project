{
 "cells": [
  {
   "cell_type": "code",
   "execution_count": 2,
   "id": "initial_id",
   "metadata": {
    "collapsed": true,
    "ExecuteTime": {
     "end_time": "2024-04-04T00:54:44.363286Z",
     "start_time": "2024-04-04T00:54:37.844606Z"
    }
   },
   "outputs": [
    {
     "data": {
      "text/plain": "['neos-2657525-crna.mps',\n 'splice1k1.mps',\n 'seymour.mps',\n 'beasleyC3.mps',\n 'b1c1s1.mps',\n 'triptim1.mps',\n 'air05.mps',\n 'rocI-4-11.mps',\n 'neos-3988577-wolgan.mps',\n 'mushroom-best.mps',\n 'neos-5104907-jarama.mps',\n 'swath3.mps',\n 'neos-827175.mps',\n 'highschool1-aigio.mps',\n 'neos-957323.mps',\n 'app1-2.mps',\n 'neos-4300652-rahue.mps',\n 'neos-1456979.mps',\n 'ns1760995.mps',\n 'tr12-30.mps',\n 'fhnw-binpack4-4.mps',\n 'sp97ar.mps',\n 'mad.mps',\n 'swath1.mps',\n 'drayage-25-23.mps',\n 'enlight_hard.mps',\n 'uct-subprob.mps',\n 'ex9.mps',\n 'roll3000.mps',\n 'neos-4722843-widden.mps',\n 'rmatr100-p10.mps',\n 'eil33-2.mps',\n 'app1-1.mps',\n 'neos859080.mps',\n 'glass4.mps',\n 'blp-ar98.mps',\n 'neos-848589.mps',\n 'roi2alpha3n4.mps',\n 'graph20-20-1rand.mps',\n 'neos-3754480-nidda.mps',\n 'rocII-5-11.mps',\n 'neos-5195221-niemur.mps',\n 'rococoC10-001000.mps',\n 'ns1208400.mps',\n 'neos-4387871-tavua.mps',\n 'lotsize.mps',\n 'k1mushroom.mps',\n 'satellites2-60-fs.mps',\n 'cvs16r128-89.mps',\n 'cmflsp50-24-8-8.mps',\n 'ex10.mps',\n 'neos-1171448.mps',\n 'peg-solitaire-a3.mps',\n 'CMS750_4.mps',\n 'rococoB10-011000.mps',\n 'radiationm18-12-05.mps',\n 'neos-3004026-krka.mps',\n 'graphdraw-domain.mps',\n 'neos-2075418-temuka.mps',\n 'ran14x18-disj-8.mps',\n 'gfd-schedulen180f7d50m30k18.mps',\n 'neos8.mps',\n '30n20b8.mps',\n 'bab6.mps',\n 'nw04.mps',\n 'cost266-UUE.mps',\n 'neos-860300.mps',\n 'fiball.mps',\n 'cryptanalysiskb128n5obj14.mps',\n 'supportcase12.mps',\n 'leo1.mps',\n 'proteindesign121hz512p9.mps',\n 'buildingenergy.mps',\n 'traininstance6.mps',\n 'reblock115.mps',\n 'dws008-01.mps',\n 'neos-5049753-cuanza.mps',\n 'neos-2746589-doon.mps',\n 'neos-3024952-loue.mps',\n 'markshare2.mps',\n 'neos-4413714-turia.mps',\n 'n2seq36q.mps',\n 'mc11.mps',\n 'gmu-35-40.mps',\n 'lectsched-5-obj.mps',\n 'sing44.mps',\n 'neos-662469.mps',\n 'glass-sc.mps',\n 'neos-3555904-turama.mps',\n 'leo2.mps',\n 'supportcase10.mps',\n 'cryptanalysiskb128n5obj16.mps',\n 'neos-3083819-nubu.mps',\n 'neos-5114902-kasavu.mps',\n 'ns1644855.mps',\n 'momentum1.mps',\n 'cod105.mps',\n 'nu25-pr12.mps',\n 'sct2.mps',\n 'var-smallemery-m6j6.mps',\n 'csched007.mps',\n 'irp.mps',\n 'pk1.mps',\n 'neos-4532248-waihi.mps',\n 'neos-1582420.mps',\n 'neos-5188808-nattai.mps',\n 'sp150x300d.mps',\n 'nexp-150-20-8-5.mps',\n 'gmu-35-50.mps',\n 'neos-4647030-tutaki.mps',\n 'mik-250-20-75-4.mps',\n 's250r10.mps',\n 'netdiversion.mps',\n 'academictimetablesmall.mps',\n 'brazil3.mps',\n 'comp21-2idx.mps',\n 'traininstance2.mps',\n 'gen-ip054.mps',\n 'rd-rplusc-21.mps',\n 'cbs-cta.mps',\n 'hypothyroid-k1.mps',\n 'bab2.mps',\n '50v-10.mps',\n 'chromaticindex512-7.mps',\n 'ic97_potential.mps',\n 'qap10.mps',\n 'neos-3046615-murg.mps',\n 'neos-5107597-kakapo.mps',\n 'rail02.mps',\n 'csched008.mps',\n 'h80x6320d.mps',\n 'timtab1.mps',\n 'mzzv11.mps',\n 'markshare_4_0.mps',\n 'supportcase33.mps',\n 'supportcase26.mps',\n 'atlanta-ip.mps',\n 'sing326.mps',\n 'bppc4-08.mps',\n 'net12.mps',\n 'blp-ic98.mps',\n 'map10.mps',\n 'neos-4738912-atrato.mps',\n 'rail01.mps',\n 'uccase12.mps',\n 'neos-4763324-toguru.mps',\n 'drayage-100-23.mps',\n 'supportcase18.mps',\n 'supportcase19.mps',\n 'neos-4954672-berkel.mps',\n 'square41.mps',\n 's100.mps',\n 'snp-02-004-104.mps',\n 'comp07-2idx.mps',\n 'fast0507.mps',\n 'neos-1445765.mps',\n 'satellites2-40.mps',\n 'n3div36.mps',\n 'sp98ar.mps',\n 'physiciansched3-3.mps',\n 'unitcal_7.mps',\n 'supportcase6.mps',\n 'supportcase7.mps',\n 'nursesched-medium-hint03.mps',\n 'mas76.mps',\n 'ns1116954.mps',\n 'ns1830653.mps',\n 'neos17.mps',\n 'icir97_tension.mps',\n 'istanbul-no-cutoff.mps',\n 'mzzv42z.mps',\n 'mas74.mps',\n 'supportcase22.mps',\n 'neos-2978193-inde.mps',\n 'square47.mps',\n 'decomp2.mps',\n 'bnatt400.mps',\n 'neos-2987310-joes.mps',\n 'neos-4338804-snowy.mps',\n 'seymour1.mps',\n 'neos-3402294-bobin.mps',\n 'neos-933966.mps',\n 'sorrell3.mps',\n 'neos-1122047.mps',\n 'pg5_34.mps',\n 'fhnw-binpack4-48.mps',\n 'neos-3381206-awhea.mps',\n 'trento1.mps',\n 'thor50dday.mps',\n 'neos5.mps',\n 'dano3_5.mps',\n 'neos-950242.mps',\n 'physiciansched6-2.mps',\n 'binkar10_1.mps',\n 'piperout-27.mps',\n 'n5-3.mps',\n 'neos-873061.mps',\n 'neos-5093327-huahum.mps',\n 'proteindesign122trx11p8.mps',\n 'pg.mps',\n 'neos-1354092.mps',\n 'co-100.mps',\n 'wachplan.mps',\n 'rail507.mps',\n 'opm2-z10-s4.mps',\n 'map16715-04.mps',\n 'neos-3216931-puriri.mps',\n 'irish-electricity.mps',\n 'savsched1.mps',\n 'neos-3627168-kasai.mps',\n 'rmatr200-p5.mps',\n 'dano3_3.mps',\n 'roi5alpha10n8.mps',\n 'radiationm40-10-02.mps',\n 'fastxgemm-n2r6s0t2.mps',\n 'piperout-08.mps',\n 'milo-v12-6-r2-40-1.mps',\n 'tbfp-network.mps',\n 'p200x1188c.mps',\n 'neos-3402454-bohle.mps',\n 'neos-631710.mps',\n 'germanrr.mps',\n 'supportcase42.mps',\n 'neos-960392.mps',\n 'bnatt500.mps',\n 'eilA101-2.mps',\n 'assign1-5-8.mps',\n 'nursesched-sprint02.mps',\n 'mcsched.mps',\n 'neos-787933.mps',\n 'exp-1-500-5-5.mps',\n 'gen-ip002.mps',\n 'neos-911970.mps',\n 'neos-1171737.mps',\n 'neos-3656078-kumeu.mps',\n 'chromaticindex1024-7.mps',\n 'supportcase40.mps',\n 'uccase9.mps',\n 'ns1952667.mps',\n 'neos-5052403-cygnet.mps']"
     },
     "execution_count": 2,
     "metadata": {},
     "output_type": "execute_result"
    }
   ],
   "source": [
    "#data/extract/bm/30n20b8.mps.gz\n",
    "#data/extract/bm_ex\n",
    "import os\n",
    "import gzip\n",
    "import shutil\n",
    "\n",
    "\n",
    "source_dir = 'data/extract/bm/'\n",
    "target_dir = 'data/extract/bm_ex/'\n",
    "\n",
    "os.makedirs(target_dir, exist_ok=True)\n",
    "\n",
    "\n",
    "for filename in os.listdir(source_dir):\n",
    "    if filename.endswith('.gz'):\n",
    "        # 构造完整的文件路径\n",
    "        source_file = os.path.join(source_dir, filename)\n",
    "        target_file = os.path.join(target_dir, filename[:-3])  # 移除.gz扩展名\n",
    "        \n",
    "        # 解压缩文件\n",
    "        with gzip.open(source_file, 'rb') as f_in:\n",
    "            with open(target_file, 'wb') as f_out:\n",
    "                shutil.copyfileobj(f_in, f_out)\n",
    "\n",
    "# 返回目标目录中的文件列表以验证\n",
    "os.listdir(target_dir)\n",
    "\n"
   ]
  },
  {
   "cell_type": "code",
   "outputs": [],
   "source": [],
   "metadata": {
    "collapsed": false
   },
   "id": "1871e580a1b3df81"
  }
 ],
 "metadata": {
  "kernelspec": {
   "display_name": "Python 3",
   "language": "python",
   "name": "python3"
  },
  "language_info": {
   "codemirror_mode": {
    "name": "ipython",
    "version": 2
   },
   "file_extension": ".py",
   "mimetype": "text/x-python",
   "name": "python",
   "nbconvert_exporter": "python",
   "pygments_lexer": "ipython2",
   "version": "2.7.6"
  }
 },
 "nbformat": 4,
 "nbformat_minor": 5
}
