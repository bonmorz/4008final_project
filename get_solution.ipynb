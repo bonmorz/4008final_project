{
 "cells": [
  {
   "cell_type": "code",
   "execution_count": 1,
   "id": "initial_id",
   "metadata": {
    "collapsed": true,
    "ExecuteTime": {
     "end_time": "2024-04-05T18:26:05.620247Z",
     "start_time": "2024-04-05T18:26:02.538242Z"
    }
   },
   "outputs": [],
   "source": [
    "import zipfile\n",
    "from pulp import LpProblem\n",
    "import os\n",
    "import gzip\n",
    "from gurobipy import read, GRB\n",
    "\n",
    "import graph_nets as gn\n",
    "import sonnet as snt\n",
    "import tensorflow as tf\n",
    "from graph_nets import graphs\n",
    "from graph_nets import utils_tf\n",
    "\n",
    "import numpy as np\n",
    "\n",
    "from pyscipopt import Model, quicksum, SCIP_RESULT, SCIP_PARAMSETTING,SCIP_EVENTTYPE,Eventhdlr"
   ]
  },
  {
   "cell_type": "code",
   "outputs": [],
   "source": [
    "#read the path to a problem and get the answer of the\n",
    "def collect_every_solution(path):\n",
    "    model = Model()\n",
    "    model.readProblem(path)\n",
    "\n",
    "    # Disable presolving and enable solution collection\n",
    "    model.setPresolve(SCIP_PARAMSETTING.OFF)\n",
    "    #model.setParam('limits/solutions', -1)  # Collect all solutions\n",
    "\n",
    "\n",
    "\n",
    "    class SolutionCollector(Eventhdlr):\n",
    "        def __init__(self):\n",
    "            super().__init__()\n",
    "            self.model = model\n",
    "            self.solutions = []\n",
    "\n",
    "        def eventinit(self):\n",
    "            self.model.catchEvent(SCIP_EVENTTYPE.BESTSOLFOUND, self)\n",
    "\n",
    "        def eventexit(self):\n",
    "            self.model.dropEvent(SCIP_EVENTTYPE.BESTSOLFOUND, self)\n",
    "\n",
    "        def eventexec(self, event):\n",
    "            #sol = self.model.getBestSol()\n",
    "            #x_val = self.model.getVars()\n",
    "\n",
    "           # self.solutions.append(x_val)\n",
    "            \n",
    "            sol = self.model.getBestSol()\n",
    "            sol_values = {var.name: self.model.getSolVal(sol, var) for var in self.model.getVars()}\n",
    "            self.solutions.append(sol_values)\n",
    "\n",
    "\n",
    "    # Create an instance of the event handler\n",
    "    solution_collector = SolutionCollector()\n",
    "\n",
    "    # Include the event handler in the model\n",
    "    model.includeEventhdlr(solution_collector, \"SolutionCollector\", \"Collects all feasible solutions\")\n",
    "\n",
    "    # Solve the model\n",
    "    model.optimize()\n",
    "\n",
    "\n",
    "    sol_set = solution_collector.solutions\n",
    "\n",
    "    #现在我们拥有了路径中问题的所有可行解的集合，可以用它来构建二部图了\n",
    "\n",
    "\n",
    "    return sol_set"
   ],
   "metadata": {
    "collapsed": false,
    "ExecuteTime": {
     "end_time": "2024-04-05T18:40:04.098964Z",
     "start_time": "2024-04-05T18:40:04.096436Z"
    }
   },
   "id": "efa688f383537ea7",
   "execution_count": 4
  },
  {
   "cell_type": "code",
   "outputs": [],
   "source": [
    "problem_file_path = 'data/extract/bm_ex'\n",
    "solution_file_path = 'data/extract/bm_ex_solution'\n",
    "\n",
    "def get_solution_from_file(path):\n",
    "    #make sure the solution file exists\n",
    "    if not os.path.exists(solution_file_path):\n",
    "        os.makedirs(solution_file_path)\n",
    "    \n",
    "    for filename in os.listdir(path):\n",
    "        print(filename)\n",
    "        file_path = os.path.join(path, filename)\n",
    "        file_ans=collect_every_solution(file_path)\n",
    "        \n",
    "        #新建文件的答案文档\n",
    "        solution_file = os.path.join(solution_file_path, filename)\n",
    "        # 打开文件进行写入\n",
    "        with open(solution_file, 'w') as f:\n",
    "            for item in file_ans:\n",
    "                # 将数组中的每个元素转换为字符串并写入文件\n",
    "                # 假设数组中的每个元素都是字符串或者可以被转换为字符串\n",
    "                f.write(str(item) + '\\n')  \n",
    "        break\n",
    "        \n",
    "        \n",
    "get_solution_from_file(problem_file_path)"
   ],
   "metadata": {
    "collapsed": false,
    "is_executing": true,
    "ExecuteTime": {
     "start_time": "2024-04-05T18:40:10.933424Z"
    }
   },
   "id": "566cfeea903117a6",
   "execution_count": null
  },
  {
   "cell_type": "code",
   "outputs": [],
   "source": [],
   "metadata": {
    "collapsed": false
   },
   "id": "16dc574c7a69e8b3"
  }
 ],
 "metadata": {
  "kernelspec": {
   "display_name": "Python 3",
   "language": "python",
   "name": "python3"
  },
  "language_info": {
   "codemirror_mode": {
    "name": "ipython",
    "version": 2
   },
   "file_extension": ".py",
   "mimetype": "text/x-python",
   "name": "python",
   "nbconvert_exporter": "python",
   "pygments_lexer": "ipython2",
   "version": "2.7.6"
  }
 },
 "nbformat": 4,
 "nbformat_minor": 5
}
